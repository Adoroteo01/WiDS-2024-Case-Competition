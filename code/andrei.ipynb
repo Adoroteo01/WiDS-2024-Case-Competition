{
 "cells": [
  {
   "cell_type": "code",
   "execution_count": null,
   "metadata": {
    "vscode": {
     "languageId": "r"
    }
   },
   "outputs": [],
   "source": [
    ".libPaths(\"./lib\")\n",
    "\n",
    "install.packages(c(\"tidyverse\"))\n",
    "library(tidyverse)\n",
    "\n",
    "options(repr.plot.width = 10, repr.plot.height = 10)\n",
    "options(repr.matrix.max.rows = 6)"
   ]
  }
 ],
 "metadata": {
  "kernelspec": {
   "display_name": "R",
   "language": "R",
   "name": "ir"
  },
  "language_info": {
   "codemirror_mode": "r",
   "file_extension": ".r",
   "mimetype": "text/x-r-source",
   "name": "R",
   "pygments_lexer": "r",
   "version": "4.3.3"
  }
 },
 "nbformat": 4,
 "nbformat_minor": 2
}
